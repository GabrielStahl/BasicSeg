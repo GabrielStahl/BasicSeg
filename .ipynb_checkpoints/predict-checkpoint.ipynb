{
 "cells": [
  {
   "cell_type": "code",
   "execution_count": 1,
   "id": "b2f69f93",
   "metadata": {},
   "outputs": [],
   "source": [
    "# USAGE\n",
    "# python predict.py\n",
    "# import the necessary packages\n",
    "import config\n",
    "import matplotlib.pyplot as plt\n",
    "import numpy as np\n",
    "import torch\n",
    "import cv2\n",
    "import os"
   ]
  },
  {
   "cell_type": "code",
   "execution_count": 2,
   "id": "5959e4d1",
   "metadata": {},
   "outputs": [],
   "source": [
    "def prepare_plot(origImage, origMask, predMask):\n",
    "\t# initialize our figure\n",
    "\tfigure, ax = plt.subplots(nrows=1, ncols=3, figsize=(10, 10))\n",
    "\t# plot the original image, its mask, and the predicted mask\n",
    "\tax[0].imshow(origImage)\n",
    "\tax[1].imshow(origMask)\n",
    "\tax[2].imshow(predMask)\n",
    "\t# set the titles of the subplots\n",
    "\tax[0].set_title(\"Image\")\n",
    "\tax[1].set_title(\"Original Mask\")\n",
    "\tax[2].set_title(\"Predicted Mask\")\n",
    "\t# set the layout of the figure and display it\n",
    "\tfigure.tight_layout()\n",
    "\tfigure.show()"
   ]
  },
  {
   "cell_type": "code",
   "execution_count": 3,
   "id": "56536f52",
   "metadata": {},
   "outputs": [],
   "source": [
    "def make_predictions(model, imagePath):\n",
    "\t# set model to evaluation mode\n",
    "\tmodel.eval()\n",
    "\t# turn off gradient tracking\n",
    "\twith torch.no_grad():\n",
    "\t\t# load the image from disk, swap its color channels, cast it\n",
    "\t\t# to float data type, and scale its pixel values\n",
    "\t\timage = cv2.imread(imagePath)\n",
    "\t\timage = cv2.cvtColor(image, cv2.COLOR_BGR2RGB)\n",
    "\t\timage = image.astype(\"float32\") / 255.0\n",
    "\t\t# resize the image and make a copy of it for visualization\n",
    "\t\timage = cv2.resize(image, (128, 128))\n",
    "\t\torig = image.copy()\n",
    "\t\t# find the filename and generate the path to ground truth\n",
    "\t\t# mask\n",
    "\t\tfilename = imagePath.split(os.path.sep)[-1]\n",
    "        \n",
    "\t\tfilename_without_ext = os.path.splitext(filename)[0]\n",
    "\t\tfilename = filename_without_ext + '.png'\n",
    "\n",
    "        \n",
    "\t\tgroundTruthPath = os.path.join(config.MASK_DATASET_PATH,\n",
    "\t\t\tfilename)\n",
    "\t\t# load the ground-truth segmentation mask in grayscale mode\n",
    "\t\t# and resize it\n",
    "\t\tgtMask = cv2.imread(groundTruthPath, 0)\n",
    "\t\tgtMask = cv2.resize(gtMask, (config.INPUT_IMAGE_HEIGHT,\n",
    "\t\t\tconfig.INPUT_IMAGE_HEIGHT))\n",
    "        \t\t# make the channel axis to be the leading one, add a batch\n",
    "\t\t# dimension, create a PyTorch tensor, and flash it to the\n",
    "\t\t# current device\n",
    "\t\timage = np.transpose(image, (2, 0, 1))\n",
    "\t\timage = np.expand_dims(image, 0)\n",
    "\t\timage = torch.from_numpy(image).to(config.DEVICE)\n",
    "        \n",
    "        # Make the prediction\n",
    "\t\tpredMask = model(image).squeeze()\n",
    "\n",
    "        # Apply softmax to the prediction (dim=1 for class dimension)\n",
    "\t\tpredMask = torch.softmax(predMask, dim=1)\n",
    "\n",
    "        # Convert probabilities to class labels\n",
    "\t\tpredMask = torch.argmax(predMask, dim=0)\n",
    "\n",
    "        # Convert the tensor to a NumPy array\n",
    "\t\tpredMask = predMask.cpu().numpy()\n",
    "\n",
    "        # Optionally, convert class labels to a color map for visualization (if needed)\n",
    "        # predMask = color_map(predMask, num_classes=3)\n",
    "\n",
    "        # Prepare a plot for visualization\n",
    "\t\tprepare_plot(orig, gtMask, predMask)\n",
    "        "
   ]
  },
  {
   "cell_type": "code",
   "execution_count": 4,
   "id": "e51fd6d5",
   "metadata": {},
   "outputs": [
    {
     "name": "stdout",
     "output_type": "stream",
     "text": [
      "[INFO] loading up test image paths...\n",
      "[INFO] load up model...\n",
      "/Users/Gabriel/MResMedicalImaging/RESEARCH_PROJECT/BasicSeg/dataset/oxford-iiit-pet/images/samoyed_38.jpg\n",
      "failed with /Users/Gabriel/MResMedicalImaging/RESEARCH_PROJECT/BasicSeg/dataset/oxford-iiit-pet/images/samoyed_38.jpg\n",
      "/Users/Gabriel/MResMedicalImaging/RESEARCH_PROJECT/BasicSeg/dataset/oxford-iiit-pet/images/boxer_35.jpg\n",
      "failed with /Users/Gabriel/MResMedicalImaging/RESEARCH_PROJECT/BasicSeg/dataset/oxford-iiit-pet/images/boxer_35.jpg\n",
      "/Users/Gabriel/MResMedicalImaging/RESEARCH_PROJECT/BasicSeg/dataset/oxford-iiit-pet/images/beagle_3.jpg\n",
      "failed with /Users/Gabriel/MResMedicalImaging/RESEARCH_PROJECT/BasicSeg/dataset/oxford-iiit-pet/images/beagle_3.jpg\n",
      "/Users/Gabriel/MResMedicalImaging/RESEARCH_PROJECT/BasicSeg/dataset/oxford-iiit-pet/images/Bombay_6.jpg\n",
      "failed with /Users/Gabriel/MResMedicalImaging/RESEARCH_PROJECT/BasicSeg/dataset/oxford-iiit-pet/images/Bombay_6.jpg\n",
      "/Users/Gabriel/MResMedicalImaging/RESEARCH_PROJECT/BasicSeg/dataset/oxford-iiit-pet/images/english_cocker_spaniel_9.jpg\n",
      "failed with /Users/Gabriel/MResMedicalImaging/RESEARCH_PROJECT/BasicSeg/dataset/oxford-iiit-pet/images/english_cocker_spaniel_9.jpg\n",
      "/Users/Gabriel/MResMedicalImaging/RESEARCH_PROJECT/BasicSeg/dataset/oxford-iiit-pet/images/pug_132.jpg\n",
      "failed with /Users/Gabriel/MResMedicalImaging/RESEARCH_PROJECT/BasicSeg/dataset/oxford-iiit-pet/images/pug_132.jpg\n",
      "/Users/Gabriel/MResMedicalImaging/RESEARCH_PROJECT/BasicSeg/dataset/oxford-iiit-pet/images/keeshond_72.jpg\n",
      "failed with /Users/Gabriel/MResMedicalImaging/RESEARCH_PROJECT/BasicSeg/dataset/oxford-iiit-pet/images/keeshond_72.jpg\n",
      "/Users/Gabriel/MResMedicalImaging/RESEARCH_PROJECT/BasicSeg/dataset/oxford-iiit-pet/images/wheaten_terrier_149.jpg\n",
      "failed with /Users/Gabriel/MResMedicalImaging/RESEARCH_PROJECT/BasicSeg/dataset/oxford-iiit-pet/images/wheaten_terrier_149.jpg\n",
      "/Users/Gabriel/MResMedicalImaging/RESEARCH_PROJECT/BasicSeg/dataset/oxford-iiit-pet/images/miniature_pinscher_121.jpg\n",
      "failed with /Users/Gabriel/MResMedicalImaging/RESEARCH_PROJECT/BasicSeg/dataset/oxford-iiit-pet/images/miniature_pinscher_121.jpg\n",
      "/Users/Gabriel/MResMedicalImaging/RESEARCH_PROJECT/BasicSeg/dataset/oxford-iiit-pet/images/chihuahua_83.jpg\n",
      "failed with /Users/Gabriel/MResMedicalImaging/RESEARCH_PROJECT/BasicSeg/dataset/oxford-iiit-pet/images/chihuahua_83.jpg\n"
     ]
    },
    {
     "name": "stderr",
     "output_type": "stream",
     "text": [
      "[ WARN:0@2.272] global loadsave.cpp:248 findDecoder imread_('/Users/Gabriel/MResMedicalImaging/RESEARCH_PROJECT/BasicSeg/dataset/oxford-iiit-pet/annotations/trimaps/samoyed_38.jpg'): can't open/read file: check file path/integrity\n",
      "[ WARN:0@2.277] global loadsave.cpp:248 findDecoder imread_('/Users/Gabriel/MResMedicalImaging/RESEARCH_PROJECT/BasicSeg/dataset/oxford-iiit-pet/annotations/trimaps/boxer_35.jpg'): can't open/read file: check file path/integrity\n",
      "[ WARN:0@2.279] global loadsave.cpp:248 findDecoder imread_('/Users/Gabriel/MResMedicalImaging/RESEARCH_PROJECT/BasicSeg/dataset/oxford-iiit-pet/annotations/trimaps/beagle_3.jpg'): can't open/read file: check file path/integrity\n",
      "[ WARN:0@2.282] global loadsave.cpp:248 findDecoder imread_('/Users/Gabriel/MResMedicalImaging/RESEARCH_PROJECT/BasicSeg/dataset/oxford-iiit-pet/annotations/trimaps/Bombay_6.jpg'): can't open/read file: check file path/integrity\n",
      "[ WARN:0@2.284] global loadsave.cpp:248 findDecoder imread_('/Users/Gabriel/MResMedicalImaging/RESEARCH_PROJECT/BasicSeg/dataset/oxford-iiit-pet/annotations/trimaps/english_cocker_spaniel_9.jpg'): can't open/read file: check file path/integrity\n",
      "[ WARN:0@2.285] global loadsave.cpp:248 findDecoder imread_('/Users/Gabriel/MResMedicalImaging/RESEARCH_PROJECT/BasicSeg/dataset/oxford-iiit-pet/annotations/trimaps/pug_132.jpg'): can't open/read file: check file path/integrity\n",
      "[ WARN:0@2.288] global loadsave.cpp:248 findDecoder imread_('/Users/Gabriel/MResMedicalImaging/RESEARCH_PROJECT/BasicSeg/dataset/oxford-iiit-pet/annotations/trimaps/keeshond_72.jpg'): can't open/read file: check file path/integrity\n",
      "[ WARN:0@2.290] global loadsave.cpp:248 findDecoder imread_('/Users/Gabriel/MResMedicalImaging/RESEARCH_PROJECT/BasicSeg/dataset/oxford-iiit-pet/annotations/trimaps/wheaten_terrier_149.jpg'): can't open/read file: check file path/integrity\n",
      "[ WARN:0@2.291] global loadsave.cpp:248 findDecoder imread_('/Users/Gabriel/MResMedicalImaging/RESEARCH_PROJECT/BasicSeg/dataset/oxford-iiit-pet/annotations/trimaps/miniature_pinscher_121.jpg'): can't open/read file: check file path/integrity\n",
      "[ WARN:0@2.293] global loadsave.cpp:248 findDecoder imread_('/Users/Gabriel/MResMedicalImaging/RESEARCH_PROJECT/BasicSeg/dataset/oxford-iiit-pet/annotations/trimaps/chihuahua_83.jpg'): can't open/read file: check file path/integrity\n"
     ]
    }
   ],
   "source": [
    "# load the image paths in our testing file and randomly select 10\n",
    "# image paths\n",
    "print(\"[INFO] loading up test image paths...\")\n",
    "imagePaths = open(config.TEST_PATHS).read().strip().split(\"\\n\")\n",
    "imagePaths = np.random.choice(imagePaths, size=10)\n",
    "# load our model from disk and flash it to the current device\n",
    "print(\"[INFO] load up model...\")\n",
    "unet = torch.load(config.MODEL_PATH).to(config.DEVICE)\n",
    "# iterate over the randomly selected test image paths\n",
    "for path in imagePaths:\n",
    "\t# make predictions and visualize the results\n",
    "\ttry:\n",
    "\t\tmake_predictions(unet, path)\n",
    "\texcept:\n",
    "\t\tprint(f'failed with {path}')"
   ]
  },
  {
   "cell_type": "code",
   "execution_count": null,
   "id": "7a6d20e5",
   "metadata": {},
   "outputs": [],
   "source": []
  }
 ],
 "metadata": {
  "kernelspec": {
   "display_name": "Python 3 (ipykernel)",
   "language": "python",
   "name": "python3"
  },
  "language_info": {
   "codemirror_mode": {
    "name": "ipython",
    "version": 3
   },
   "file_extension": ".py",
   "mimetype": "text/x-python",
   "name": "python",
   "nbconvert_exporter": "python",
   "pygments_lexer": "ipython3",
   "version": "3.9.18"
  }
 },
 "nbformat": 4,
 "nbformat_minor": 5
}
