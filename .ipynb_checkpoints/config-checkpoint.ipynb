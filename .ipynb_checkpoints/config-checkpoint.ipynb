{
 "cells": [
  {
   "cell_type": "code",
   "execution_count": 2,
   "id": "7e19cc26",
   "metadata": {},
   "outputs": [],
   "source": [
    "# import the necessary packages\n",
    "import torch\n",
    "import os"
   ]
  },
  {
   "cell_type": "code",
   "execution_count": 2,
   "id": "189a4a4b",
   "metadata": {},
   "outputs": [],
   "source": [
    "# base path of the dataset\n",
    "base_path = \"/Users/Gabriel/MRes Medical Imaging/RESEARCH_PROJECT/BasicSeg/\"\n",
    "\n",
    "DATASET_PATH = os.path.join(base_path,\"dataset\",\"oxford-iiit-pet\",\"train\")\n",
    "\n",
    "# define the path to the images and masks dataset\n",
    "IMAGE_DATASET_PATH = os.path.join(DATASET_PATH, \"images\")\n",
    "MASK_DATASET_PATH = os.path.join(DATASET_PATH, \"annotations\",\"trimaps\")"
   ]
  },
  {
   "cell_type": "code",
   "execution_count": 3,
   "id": "9132522c",
   "metadata": {},
   "outputs": [],
   "source": [
    "# define the test split\n",
    "TEST_SPLIT = 0.15\n",
    "\n",
    "# determine the device to be used for training and evaluation\n",
    "DEVICE = \"cuda\" if torch.cuda.is_available() else \"cpu\"\n",
    "\n",
    "# determine if we will be pinning memory during data loading\n",
    "PIN_MEMORY = True if DEVICE == \"cuda\" else False"
   ]
  },
  {
   "cell_type": "code",
   "execution_count": null,
   "id": "1cce3a8f",
   "metadata": {},
   "outputs": [],
   "source": [
    "# define the number of channels in the input, number of classes,\n",
    "# and number of levels in the U-Net model\n",
    "NUM_CHANNELS = 1\n",
    "NUM_CLASSES = 1\n",
    "NUM_LEVELS = 3\n",
    "# initialize learning rate, number of epochs to train for, and the\n",
    "# batch size\n",
    "INIT_LR = 0.001\n",
    "NUM_EPOCHS = 40\n",
    "BATCH_SIZE = 64\n",
    "# define the input image dimensions\n",
    "INPUT_IMAGE_WIDTH = 128 # CHANGE\n",
    "INPUT_IMAGE_HEIGHT = 128\n",
    "# define threshold to filter weak predictions\n",
    "THRESHOLD = 0.5\n",
    "# define the path to the base output directory\n",
    "BASE_OUTPUT = \"output\"\n",
    "# define the path to the output serialized model, model training\n",
    "# plot, and testing image paths\n",
    "MODEL_PATH = os.path.join(base_path, BASE_OUTPUT, \"unet_tgs_salt.pth\")\n",
    "PLOT_PATH = os.path.join(base_path, BASE_OUTPUT, \"plot.png\")\n",
    "TEST_PATHS = os.path.join(base_path, BASE_OUTPUT, \"test_paths.txt\")"
   ]
  },
  {
   "cell_type": "code",
   "execution_count": null,
   "id": "480ea373",
   "metadata": {},
   "outputs": [],
   "source": []
  }
 ],
 "metadata": {
  "kernelspec": {
   "display_name": "Python 3 (ipykernel)",
   "language": "python",
   "name": "python3"
  },
  "language_info": {
   "codemirror_mode": {
    "name": "ipython",
    "version": 3
   },
   "file_extension": ".py",
   "mimetype": "text/x-python",
   "name": "python",
   "nbconvert_exporter": "python",
   "pygments_lexer": "ipython3",
   "version": "3.9.18"
  }
 },
 "nbformat": 4,
 "nbformat_minor": 5
}
